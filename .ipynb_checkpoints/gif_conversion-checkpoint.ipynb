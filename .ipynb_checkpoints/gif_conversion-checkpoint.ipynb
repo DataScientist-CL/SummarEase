{
 "cells": [
  {
   "cell_type": "code",
   "execution_count": 4,
   "id": "8beb75af-f340-47fe-8730-f3bd3601e2cf",
   "metadata": {},
   "outputs": [
    {
     "name": "stdout",
     "output_type": "stream",
     "text": [
      "Found existing installation: moviepy 2.2.1\n",
      "Uninstalling moviepy-2.2.1:\n",
      "  Successfully uninstalled moviepy-2.2.1\n",
      "Collecting moviepy[optional]\n",
      "  Using cached moviepy-2.2.1-py3-none-any.whl.metadata (6.9 kB)\n",
      "Requirement already satisfied: decorator<6.0,>=4.0.2 in c:\\users\\user\\appdata\\local\\programs\\python\\python311\\lib\\site-packages (from moviepy[optional]) (5.2.1)\n",
      "Requirement already satisfied: imageio<3.0,>=2.5 in c:\\users\\user\\appdata\\local\\programs\\python\\python311\\lib\\site-packages (from moviepy[optional]) (2.37.0)\n",
      "Requirement already satisfied: imageio_ffmpeg>=0.2.0 in c:\\users\\user\\appdata\\local\\programs\\python\\python311\\lib\\site-packages (from moviepy[optional]) (0.6.0)\n",
      "Requirement already satisfied: numpy>=1.25.0 in c:\\users\\user\\appdata\\local\\programs\\python\\python311\\lib\\site-packages (from moviepy[optional]) (2.2.6)\n",
      "Requirement already satisfied: proglog<=1.0.0 in c:\\users\\user\\appdata\\local\\programs\\python\\python311\\lib\\site-packages (from moviepy[optional]) (0.1.12)\n",
      "Requirement already satisfied: python-dotenv>=0.10 in c:\\users\\user\\appdata\\local\\programs\\python\\python311\\lib\\site-packages (from moviepy[optional]) (1.1.1)\n",
      "Requirement already satisfied: pillow<12.0,>=9.2.0 in c:\\users\\user\\appdata\\local\\programs\\python\\python311\\lib\\site-packages (from moviepy[optional]) (11.2.1)\n",
      "Requirement already satisfied: tqdm in c:\\users\\user\\appdata\\local\\programs\\python\\python311\\lib\\site-packages (from proglog<=1.0.0->moviepy[optional]) (4.67.1)\n",
      "Requirement already satisfied: colorama in c:\\users\\user\\appdata\\local\\programs\\python\\python311\\lib\\site-packages (from tqdm->proglog<=1.0.0->moviepy[optional]) (0.4.6)\n",
      "Using cached moviepy-2.2.1-py3-none-any.whl (129 kB)\n",
      "Installing collected packages: moviepy\n",
      "Successfully installed moviepy-2.2.1\n"
     ]
    },
    {
     "name": "stderr",
     "output_type": "stream",
     "text": [
      "WARNING: moviepy 2.2.1 does not provide the extra 'optional'\n",
      "\n",
      "[notice] A new release of pip is available: 24.0 -> 25.1.1\n",
      "[notice] To update, run: python.exe -m pip install --upgrade pip\n"
     ]
    }
   ],
   "source": [
    "# moviepy 완전 삭제 후 재설치\n",
    "!pip uninstall moviepy -y\n",
    "!pip install moviepy[optional]"
   ]
  },
  {
   "cell_type": "code",
   "execution_count": 5,
   "id": "731e6025-e96b-41a7-86b1-ef74da00afc2",
   "metadata": {},
   "outputs": [
    {
     "name": "stdout",
     "output_type": "stream",
     "text": [
      "Requirement already satisfied: imageio in c:\\users\\user\\appdata\\local\\programs\\python\\python311\\lib\\site-packages (2.37.0)\n",
      "Requirement already satisfied: imageio-ffmpeg in c:\\users\\user\\appdata\\local\\programs\\python\\python311\\lib\\site-packages (0.6.0)\n",
      "Requirement already satisfied: numpy in c:\\users\\user\\appdata\\local\\programs\\python\\python311\\lib\\site-packages (2.2.6)\n",
      "Requirement already satisfied: pillow in c:\\users\\user\\appdata\\local\\programs\\python\\python311\\lib\\site-packages (11.2.1)\n",
      "Requirement already satisfied: decorator in c:\\users\\user\\appdata\\local\\programs\\python\\python311\\lib\\site-packages (5.2.1)\n",
      "Requirement already satisfied: requests in c:\\users\\user\\appdata\\local\\programs\\python\\python311\\lib\\site-packages (2.32.4)\n",
      "Requirement already satisfied: tqdm in c:\\users\\user\\appdata\\local\\programs\\python\\python311\\lib\\site-packages (4.67.1)\n",
      "Requirement already satisfied: charset_normalizer<4,>=2 in c:\\users\\user\\appdata\\local\\programs\\python\\python311\\lib\\site-packages (from requests) (3.4.2)\n",
      "Requirement already satisfied: idna<4,>=2.5 in c:\\users\\user\\appdata\\local\\programs\\python\\python311\\lib\\site-packages (from requests) (3.10)\n",
      "Requirement already satisfied: urllib3<3,>=1.21.1 in c:\\users\\user\\appdata\\local\\programs\\python\\python311\\lib\\site-packages (from requests) (2.5.0)\n",
      "Requirement already satisfied: certifi>=2017.4.17 in c:\\users\\user\\appdata\\local\\programs\\python\\python311\\lib\\site-packages (from requests) (2025.6.15)\n",
      "Requirement already satisfied: colorama in c:\\users\\user\\appdata\\local\\programs\\python\\python311\\lib\\site-packages (from tqdm) (0.4.6)\n"
     ]
    },
    {
     "name": "stderr",
     "output_type": "stream",
     "text": [
      "\n",
      "[notice] A new release of pip is available: 24.0 -> 25.1.1\n",
      "[notice] To update, run: python.exe -m pip install --upgrade pip\n"
     ]
    },
    {
     "name": "stdout",
     "output_type": "stream",
     "text": [
      "Requirement already satisfied: moviepy in c:\\users\\user\\appdata\\local\\programs\\python\\python311\\lib\\site-packages (2.2.1)\n",
      "Requirement already satisfied: decorator<6.0,>=4.0.2 in c:\\users\\user\\appdata\\local\\programs\\python\\python311\\lib\\site-packages (from moviepy) (5.2.1)\n",
      "Requirement already satisfied: imageio<3.0,>=2.5 in c:\\users\\user\\appdata\\local\\programs\\python\\python311\\lib\\site-packages (from moviepy) (2.37.0)\n",
      "Requirement already satisfied: imageio_ffmpeg>=0.2.0 in c:\\users\\user\\appdata\\local\\programs\\python\\python311\\lib\\site-packages (from moviepy) (0.6.0)\n",
      "Requirement already satisfied: numpy>=1.25.0 in c:\\users\\user\\appdata\\local\\programs\\python\\python311\\lib\\site-packages (from moviepy) (2.2.6)\n",
      "Requirement already satisfied: proglog<=1.0.0 in c:\\users\\user\\appdata\\local\\programs\\python\\python311\\lib\\site-packages (from moviepy) (0.1.12)\n",
      "Requirement already satisfied: python-dotenv>=0.10 in c:\\users\\user\\appdata\\local\\programs\\python\\python311\\lib\\site-packages (from moviepy) (1.1.1)\n",
      "Requirement already satisfied: pillow<12.0,>=9.2.0 in c:\\users\\user\\appdata\\local\\programs\\python\\python311\\lib\\site-packages (from moviepy) (11.2.1)\n",
      "Requirement already satisfied: tqdm in c:\\users\\user\\appdata\\local\\programs\\python\\python311\\lib\\site-packages (from proglog<=1.0.0->moviepy) (4.67.1)\n",
      "Requirement already satisfied: colorama in c:\\users\\user\\appdata\\local\\programs\\python\\python311\\lib\\site-packages (from tqdm->proglog<=1.0.0->moviepy) (0.4.6)\n"
     ]
    },
    {
     "name": "stderr",
     "output_type": "stream",
     "text": [
      "\n",
      "[notice] A new release of pip is available: 24.0 -> 25.1.1\n",
      "[notice] To update, run: python.exe -m pip install --upgrade pip\n"
     ]
    }
   ],
   "source": [
    "# 필요한 모든 의존성 설치\n",
    "!pip install imageio imageio-ffmpeg numpy pillow decorator requests tqdm\n",
    "!pip install moviepy"
   ]
  },
  {
   "cell_type": "code",
   "execution_count": 6,
   "id": "5a217916-35a0-47f2-a56b-8ea74c9994c9",
   "metadata": {},
   "outputs": [
    {
     "name": "stdout",
     "output_type": "stream",
     "text": [
      "❌ 여전히 실패: No module named 'moviepy.editor'\n"
     ]
    }
   ],
   "source": [
    "# 재설치 후 테스트\n",
    "try:\n",
    "    from moviepy.editor import VideoFileClip\n",
    "    print(\"✅ moviepy.editor 성공!\")\n",
    "except ImportError as e:\n",
    "    print(f\"❌ 여전히 실패: {e}\")"
   ]
  },
  {
   "cell_type": "code",
   "execution_count": 1,
   "id": "5e80a94e-6d6f-4f9c-8ce1-231ffe02cd0c",
   "metadata": {},
   "outputs": [
    {
     "ename": "ModuleNotFoundError",
     "evalue": "No module named 'moviepy.editor'",
     "output_type": "error",
     "traceback": [
      "\u001b[31m---------------------------------------------------------------------------\u001b[39m",
      "\u001b[31mModuleNotFoundError\u001b[39m                       Traceback (most recent call last)",
      "\u001b[36mCell\u001b[39m\u001b[36m \u001b[39m\u001b[32mIn[1]\u001b[39m\u001b[32m, line 2\u001b[39m\n\u001b[32m      1\u001b[39m \u001b[38;5;66;03m# 커널 재시작 후 새 셀에서 실행\u001b[39;00m\n\u001b[32m----> \u001b[39m\u001b[32m2\u001b[39m \u001b[38;5;28;01mfrom\u001b[39;00m\u001b[38;5;250m \u001b[39m\u001b[34;01mmoviepy\u001b[39;00m\u001b[34;01m.\u001b[39;00m\u001b[34;01meditor\u001b[39;00m\u001b[38;5;250m \u001b[39m\u001b[38;5;28;01mimport\u001b[39;00m VideoFileClip\n\u001b[32m      3\u001b[39m \u001b[38;5;28;01mimport\u001b[39;00m\u001b[38;5;250m \u001b[39m\u001b[34;01mos\u001b[39;00m\n\u001b[32m      5\u001b[39m \u001b[38;5;28;01mdef\u001b[39;00m\u001b[38;5;250m \u001b[39m\u001b[34mcreate_optimized_gif\u001b[39m(input_path, output_path, width=\u001b[32m1280\u001b[39m, fps=\u001b[32m20\u001b[39m):\n",
      "\u001b[31mModuleNotFoundError\u001b[39m: No module named 'moviepy.editor'"
     ]
    }
   ],
   "source": [
    "# 커널 재시작 후 새 셀에서 실행\n",
    "from moviepy.editor import VideoFileClip\n",
    "import os\n",
    "\n",
    "def create_optimized_gif(input_path, output_path, width=1280, fps=20):\n",
    "    \"\"\"\n",
    "    MP4를 2배속 고해상도 GIF로 변환\n",
    "    \"\"\"\n",
    "    print(f\"🎬 변환 시작: {input_path}\")\n",
    "    \n",
    "    # 비디오 로드\n",
    "    video = VideoFileClip(input_path)\n",
    "    \n",
    "    # 원본 정보 출력\n",
    "    print(f\"원본 해상도: {video.size}\")\n",
    "    print(f\"원본 길이: {video.duration:.2f}초\")\n",
    "    print(f\"원본 FPS: {video.fps}\")\n",
    "    \n",
    "    # 2배속 적용\n",
    "    video_2x = video.fx(lambda clip: clip.speedx(2))\n",
    "    print(f\"2배속 후 길이: {video_2x.duration:.2f}초\")\n",
    "    \n",
    "    # 해상도 조정 (너비 기준)\n",
    "    if video.size[0] > width:\n",
    "        video_resized = video_2x.resize(width=width)\n",
    "        print(f\"조정된 해상도: {video_resized.size}\")\n",
    "    else:\n",
    "        video_resized = video_2x\n",
    "    \n",
    "    # GIF 저장\n",
    "    print(\"🎯 GIF 변환 중... (시간이 걸릴 수 있습니다)\")\n",
    "    video_resized.write_gif(output_path,\n",
    "                           fps=fps,\n",
    "                           program='ffmpeg',\n",
    "                           opt='OptimizePlus',\n",
    "                           fuzz=1)\n",
    "    \n",
    "    # 파일 크기 확인\n",
    "    file_size = os.path.getsize(output_path) / (1024 * 1024)  # MB\n",
    "    print(f\"✅ 변환 완료!\")\n",
    "    print(f\"파일 크기: {file_size:.2f}MB\")\n",
    "    \n",
    "    # 리소스 정리\n",
    "    video.close()\n",
    "    video_2x.close()\n",
    "    if 'video_resized' in locals():\n",
    "        video_resized.close()\n",
    "\n",
    "# 사용 예시\n",
    "create_optimized_gif(\"KakaoTalk.mp4\", \"demo_2x_hd.gif\", width=1280, fps=22)"
   ]
  },
  {
   "cell_type": "code",
   "execution_count": 3,
   "id": "872f4e3b-449b-4fda-9ca4-d51fb58b9dfd",
   "metadata": {},
   "outputs": [
    {
     "name": "stdout",
     "output_type": "stream",
     "text": [
      "moviepy 버전: 2.1.2\n",
      "moviepy 위치: C:\\Users\\user\\AppData\\Local\\Programs\\Python\\Python311\\Lib\\site-packages\\moviepy\\__init__.py\n",
      "❌ moviepy.editor 문제: cannot import name 'editor' from 'moviepy' (C:\\Users\\user\\AppData\\Local\\Programs\\Python\\Python311\\Lib\\site-packages\\moviepy\\__init__.py)\n",
      "❌ VideoFileClip 임포트 실패: No module named 'moviepy.editor'\n"
     ]
    }
   ],
   "source": [
    "# moviepy 모듈 상세 확인\n",
    "import moviepy\n",
    "print(\"moviepy 버전:\", moviepy.__version__)\n",
    "print(\"moviepy 위치:\", moviepy.__file__)\n",
    "\n",
    "# 서브모듈 확인\n",
    "try:\n",
    "    from moviepy import editor\n",
    "    print(\"✅ moviepy.editor 모듈 접근 가능\")\n",
    "except ImportError as e:\n",
    "    print(f\"❌ moviepy.editor 문제: {e}\")\n",
    "\n",
    "# VideoFileClip 직접 확인\n",
    "try:\n",
    "    from moviepy.editor import VideoFileClip\n",
    "    print(\"✅ VideoFileClip 임포트 성공!\")\n",
    "except ImportError as e:\n",
    "    print(f\"❌ VideoFileClip 임포트 실패: {e}\")"
   ]
  },
  {
   "cell_type": "code",
   "execution_count": null,
   "id": "70b3db2a-e6ae-47bb-9cca-175ae3dcb682",
   "metadata": {},
   "outputs": [],
   "source": []
  }
 ],
 "metadata": {
  "kernelspec": {
   "display_name": "Python 3 (ipykernel)",
   "language": "python",
   "name": "python3"
  },
  "language_info": {
   "codemirror_mode": {
    "name": "ipython",
    "version": 3
   },
   "file_extension": ".py",
   "mimetype": "text/x-python",
   "name": "python",
   "nbconvert_exporter": "python",
   "pygments_lexer": "ipython3",
   "version": "3.11.8"
  }
 },
 "nbformat": 4,
 "nbformat_minor": 5
}
