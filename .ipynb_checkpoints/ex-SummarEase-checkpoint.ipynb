{
 "cells": [
  {
   "cell_type": "markdown",
   "id": "d22be321-0416-48a4-b421-1202a7c63bac",
   "metadata": {},
   "source": [
    "## SummarEase\n",
    "– `Summarize(요약)`와 `Ease(편리함)`를 합쳐, \n",
    "손쉬운 뉴스 요약 도구"
   ]
  },
  {
   "cell_type": "markdown",
   "id": "362316cf-ed65-4142-b14b-dcf72b0238c5",
   "metadata": {},
   "source": [
    "**project_folder**<br>\n",
    "├── SummarEase.ipynb     # Jupyter 노트북<br>\n",
    "├── .env                 # Jupyter <br>\n",
    "├── s                    # Phon <br>\n",
    "├── r                    # 결들<br>\n",
    "└── .ipynb_checkpoints/  # Jupyter 폴더"
   ]
  },
  {
   "cell_type": "code",
   "execution_count": 48,
   "id": "caf0b6d2-0a79-4c0a-a374-52a6de897080",
   "metadata": {},
   "outputs": [
    {
     "name": "stdout",
     "output_type": "stream",
     "text": [
      "라이브러리 로드 완료!\n"
     ]
    }
   ],
   "source": [
    "# 기본 라이브러리 import\n",
    "import pandas as pd\n",
    "import numpy as np\n",
    "import matplotlib.pyplot as plt\n",
    "import seaborn as sns\n",
    "import warnings\n",
    "\n",
    "# 설정\n",
    "plt.rcParams['font.family'] = 'NanumGothic'  # 한글 폰트 설정 필요시 변경\n",
    "plt.rcParams['figure.figsize'] = (10, 6)\n",
    "warnings.filterwarnings('ignore')\n",
    "pd.set_option('display.max_columns', None)\n",
    "pd.set_option('display.max_rows', 100)\n",
    "\n",
    "print(\"라이브러리 로드 완료!\")\n",
    "\n",
    "\n",
    "\n",
    "import feedparser   # RSS 뉴스 가져오기\n",
    "import pandas as pd\n",
    "from datetime import datetime\n",
    "\n",
    "# 주요 언론사 RSS 피드\n",
    "rss_feeds = {\n",
    "    '조선일보': 'https://www.chosun.com/arc/outboundfeeds/rss/?outputType=xml',\n",
    "    '동아일보': 'https://rss.donga.com/total.xml',\n",
    "    '한겨레': 'https://www.hani.co.kr/rss/',\n",
    "    'SBS': 'https://news.sbs.co.kr/news/SectionRssFeed.do?sectionId=01',\n",
    "}"
   ]
  },
  {
   "cell_type": "code",
   "execution_count": 19,
   "id": "f54b6918-02c3-4edc-942c-420cec2c1d4e",
   "metadata": {},
   "outputs": [],
   "source": []
  },
  {
   "cell_type": "code",
   "execution_count": 20,
   "id": "4833e87c-09f5-44a1-bfba-8d099f0170ea",
   "metadata": {},
   "outputs": [],
   "source": [
    "def get_korean_news_from_rss(rss_url, source_name):\n",
    "    try:\n",
    "        feed = feedparser.parse(rss_url)\n",
    "        articles = []\n",
    "        \n",
    "        for entry in feed.entries[:10]:  # 최신 10개만\n",
    "            articles.append({\n",
    "                'title': entry.title,\n",
    "                'summary': entry.get('summary', ''),\n",
    "                'link': entry.link,\n",
    "                'published': entry.get('published', ''),\n",
    "                'source': source_name\n",
    "            })\n",
    "        \n",
    "        return articles\n",
    "    except Exception as e:\n",
    "        print(f\"Error fetching {source_name}: {e}\")\n",
    "        return []"
   ]
  },
  {
   "cell_type": "code",
   "execution_count": 21,
   "id": "ff5bf7e8-f3a3-4a7a-a03a-a864eb9d0211",
   "metadata": {},
   "outputs": [
    {
     "name": "stdout",
     "output_type": "stream",
     "text": [
      "총 40개 기사 수집\n"
     ]
    }
   ],
   "source": [
    "# 모든 언론사에서 뉴스 수집\n",
    "all_articles = []\n",
    "for source, rss_url in rss_feeds.items():\n",
    "    articles = get_korean_news_from_rss(rss_url, source)\n",
    "    all_articles.extend(articles)\n",
    "\n",
    "df = pd.DataFrame(all_articles)\n",
    "print(f\"총 {len(df)}개 기사 수집\")"
   ]
  },
  {
   "cell_type": "markdown",
   "id": "ab35b0f8-cc72-4bef-8cf2-b7cf05ecdc86",
   "metadata": {},
   "source": [
    "#### **수집된 데이터 확인**"
   ]
  },
  {
   "cell_type": "code",
   "execution_count": 22,
   "id": "9acf7182-d53f-48a2-ab1b-846587abf287",
   "metadata": {},
   "outputs": [
    {
     "name": "stdout",
     "output_type": "stream",
     "text": [
      "데이터 형태: (40, 5)\n",
      "\n",
      "컬럼 정보:\n",
      "['title', 'summary', 'link', 'published', 'source']\n",
      "\n",
      "언론사별 기사 수:\n",
      "source\n",
      "조선일보    10\n",
      "동아일보    10\n",
      "한겨레     10\n",
      "SBS     10\n",
      "Name: count, dtype: int64\n"
     ]
    }
   ],
   "source": [
    "# 데이터 기본 정보 확인\n",
    "print(\"데이터 형태:\", df.shape)\n",
    "print(\"\\n컬럼 정보:\")\n",
    "print(df.columns.tolist())\n",
    "print(\"\\n언론사별 기사 수:\")\n",
    "print(df['source'].value_counts())"
   ]
  },
  {
   "cell_type": "code",
   "execution_count": 23,
   "id": "452d3839-53f6-4907-b490-e880e887ffdb",
   "metadata": {},
   "outputs": [
    {
     "name": "stdout",
     "output_type": "stream",
     "text": [
      "\n",
      "=== 첫 5개 기사 미리보기 ===\n",
      "\n",
      "[1] 조선일보\n",
      "제목: 화끈하고 시원한 부산의 맛… 밀면 최고는 어디?\n",
      "요약: ...\n",
      "발행일: Fri, 04 Jul 2025 15:31:00 +0000\n",
      "\n",
      "[2] 조선일보\n",
      "제목: ‘병역법 위반’ 송민호, 교통사고 당해…후유증 대비 병원行\n",
      "요약: ...\n",
      "발행일: Sat, 05 Jul 2025 03:48:34 +0000\n",
      "\n",
      "[3] 조선일보\n",
      "제목: 尹 전 대통령, 오전 9시 1분 내란특검 2차 소환 출석... 묵묵부답\n",
      "요약: ...\n",
      "발행일: Fri, 04 Jul 2025 23:58:28 +0000\n",
      "\n",
      "[4] 조선일보\n",
      "제목: 윤 前 대통령 오전 조사 종료 후 점심 식사 중... 오후 1시 7분 재개 예정\n",
      "요약: ...\n",
      "발행일: Sat, 05 Jul 2025 03:12:30 +0000\n",
      "\n",
      "[5] 조선일보\n",
      "제목: 로드FC 밴텀급 최강의 타격가 '제주짱' 양지용, 7월 27일 日 슈퍼 라이진4 출격\n",
      "요약: [OSEN=홍지수 기자] 로드FC 밴텀급 최강의 타격가 ‘제주짱’ 양지용(29, 제주 팀더킹)이 일본 원정 경기에 나선다.양지용은 오는 7월 27일 일본 도쿄 사이타마 슈퍼 아레나...\n",
      "발행일: Sat, 05 Jul 2025 03:41:00 +0000\n"
     ]
    }
   ],
   "source": [
    "# 첫 몇 개 기사 확인\n",
    "print(\"\\n=== 첫 5개 기사 미리보기 ===\")\n",
    "for i in range(min(5, len(df))):\n",
    "    print(f\"\\n[{i+1}] {df.iloc[i]['source']}\")\n",
    "    print(f\"제목: {df.iloc[i]['title']}\")\n",
    "    print(f\"요약: {df.iloc[i]['summary'][:100]}...\")\n",
    "    print(f\"발행일: {df.iloc[i]['published']}\")"
   ]
  },
  {
   "cell_type": "markdown",
   "id": "878a5c93-81fb-4be9-be1b-2a7758741c20",
   "metadata": {},
   "source": [
    "#### **전처리**"
   ]
  },
  {
   "cell_type": "code",
   "execution_count": 24,
   "id": "4dd84749-9f93-4fa3-8746-ac0b4d4fb018",
   "metadata": {},
   "outputs": [
    {
     "name": "stdout",
     "output_type": "stream",
     "text": [
      "결측치 확인:\n",
      "title        0\n",
      "summary      0\n",
      "link         0\n",
      "published    0\n",
      "source       0\n",
      "dtype: int64\n",
      "\n",
      "중복 기사 수: 0\n",
      "중복 제거 후: 40개 기사\n",
      "빈 제목 제거 후: 40개 기사\n",
      "\n",
      "기사 제목 길이 통계:\n",
      "count    40.000000\n",
      "mean     36.350000\n",
      "std       6.526278\n",
      "min      24.000000\n",
      "25%      32.000000\n",
      "50%      35.500000\n",
      "75%      39.000000\n",
      "max      53.000000\n",
      "Name: title_length, dtype: float64\n"
     ]
    }
   ],
   "source": [
    "# 결측치 및 중복 확인\n",
    "print(\"결측치 확인:\")\n",
    "print(df.isnull().sum())\n",
    "\n",
    "print(f\"\\n중복 기사 수: {df.duplicated(subset=['title']).sum()}\")\n",
    "\n",
    "# 중복 제거\n",
    "df_clean = df.drop_duplicates(subset=['title'])\n",
    "print(f\"중복 제거 후: {len(df_clean)}개 기사\")\n",
    "\n",
    "# 빈 요약이나 제목 제거\n",
    "df_clean = df_clean[df_clean['title'].str.len() > 0]\n",
    "print(f\"빈 제목 제거 후: {len(df_clean)}개 기사\")\n",
    "\n",
    "# 날짜 형식 정리 (가능한 경우)\n",
    "df_clean['title_length'] = df_clean['title'].str.len()\n",
    "df_clean['summary_length'] = df_clean['summary'].str.len()\n",
    "\n",
    "print(\"\\n기사 제목 길이 통계:\")\n",
    "print(df_clean['title_length'].describe())"
   ]
  },
  {
   "cell_type": "markdown",
   "id": "2bd3736a-10e8-4ac2-8afb-76e7b504d9c2",
   "metadata": {},
   "source": [
    "### 전체기사 내용 가져오기"
   ]
  },
  {
   "cell_type": "code",
   "execution_count": 25,
   "id": "1a709fd7-7dc3-427f-9b9f-e83da4cb0fca",
   "metadata": {},
   "outputs": [
    {
     "name": "stdout",
     "output_type": "stream",
     "text": [
      "전체 기사 내용 가져오는 중... (시간이 걸릴 수 있습니다)\n",
      "처리 완료: 1/5\n",
      "처리 완료: 2/5\n",
      "처리 완료: 3/5\n",
      "처리 완료: 4/5\n",
      "처리 완료: 5/5\n"
     ]
    }
   ],
   "source": [
    "import requests\n",
    "from bs4 import BeautifulSoup\n",
    "import time\n",
    "\n",
    "def get_full_article_content(url, source):\n",
    "    \"\"\"각 언론사별로 전체 기사 내용 추출\"\"\"\n",
    "    try:\n",
    "        headers = {\n",
    "            'User-Agent': 'Mozilla/5.0 (Windows NT 10.0; Win64; x64) AppleWebKit/537.36'\n",
    "        }\n",
    "        response = requests.get(url, headers=headers, timeout=10)\n",
    "        response.raise_for_status()\n",
    "        \n",
    "        soup = BeautifulSoup(response.content, 'html.parser')\n",
    "        \n",
    "        # 언론사별 본문 추출 (간단한 예시)\n",
    "        content = \"\"\n",
    "        if '조선일보' in source:\n",
    "            article = soup.find('div', class_='article-body') or soup.find('div', class_='news-text')\n",
    "        elif '중앙일보' in source:\n",
    "            article = soup.find('div', class_='article_body') or soup.find('div', id='article_body')\n",
    "        elif '동아일보' in source:\n",
    "            article = soup.find('div', class_='article_txt') or soup.find('section', class_='news_view')\n",
    "        else:\n",
    "            # 일반적인 방법\n",
    "            article = soup.find('article') or soup.find('div', class_='content')\n",
    "        \n",
    "        if article:\n",
    "            # 텍스트만 추출\n",
    "            content = article.get_text(strip=True)\n",
    "            content = ' '.join(content.split())  # 공백 정리\n",
    "        \n",
    "        return content[:2000] if content else \"\"  # 너무 길면 자르기\n",
    "        \n",
    "    except Exception as e:\n",
    "        print(f\"Error getting content from {url}: {e}\")\n",
    "        return \"\"\n",
    "\n",
    "# 몇 개 기사만 테스트 (시간이 오래 걸릴 수 있음)\n",
    "print(\"전체 기사 내용 가져오는 중... (시간이 걸릴 수 있습니다)\")\n",
    "\n",
    "# 처음 5개만 테스트\n",
    "for i in range(min(5, len(df_clean))):\n",
    "    url = df_clean.iloc[i]['link']\n",
    "    source = df_clean.iloc[i]['source']\n",
    "    \n",
    "    full_content = get_full_article_content(url, source)\n",
    "    df_clean.iloc[i, df_clean.columns.get_loc('summary')] = full_content if full_content else df_clean.iloc[i]['summary']\n",
    "    \n",
    "    time.sleep(1)  # 서버 부하 방지\n",
    "    print(f\"처리 완료: {i+1}/5\")"
   ]
  },
  {
   "cell_type": "markdown",
   "id": "1f94bc80-99f7-46d0-8f28-430957d121a1",
   "metadata": {},
   "source": [
    "#### **뉴스 요약을 위한 데이터 준비**"
   ]
  },
  {
   "cell_type": "code",
   "execution_count": 35,
   "id": "6c4e94fe-b396-4a08-b43a-9b1e68a72ee6",
   "metadata": {},
   "outputs": [],
   "source": [
    "# 요약 프로젝트용 데이터 형태로 정리\n",
    "def prepare_for_summarization(df):\n",
    "    # 필요한 컬럼만 선택\n",
    "    summary_df = df[['title', 'summary', 'source']].copy()\n",
    "    \n",
    "    # 컬럼명 변경\n",
    "    summary_df.columns = ['title', 'content', 'source']\n",
    "    \n",
    "    # 내용이 너무 짧은 기사 제외\n",
    "    summary_df = summary_df[summary_df['content'].str.len() >= 100]\n",
    "    \n",
    "    # 간단한 요약 생성 (첫 2문장)\n",
    "    def create_simple_summary(text):\n",
    "        sentences = text.split('.')[:2]\n",
    "        return '.'.join(sentences) + '.' if sentences else text[:100]\n",
    "    \n",
    "    summary_df['auto_summary'] = summary_df['content'].apply(create_simple_summary)\n",
    "    \n",
    "    return summary_df"
   ]
  },
  {
   "cell_type": "code",
   "execution_count": 36,
   "id": "532c23d8-0fd5-472f-a9a2-bd73b6dd0c9f",
   "metadata": {},
   "outputs": [
    {
     "name": "stdout",
     "output_type": "stream",
     "text": [
      "최종 데이터: 25개 기사\n"
     ]
    }
   ],
   "source": [
    "# 데이터 준비\n",
    "final_df = prepare_for_summarization(df_clean)\n",
    "print(f\"최종 데이터: {len(final_df)}개 기사\")"
   ]
  },
  {
   "cell_type": "code",
   "execution_count": 37,
   "id": "ccb426f7-1c8c-4cfc-ab9e-34545a700944",
   "metadata": {},
   "outputs": [
    {
     "name": "stdout",
     "output_type": "stream",
     "text": [
      "데이터 저장 완료: korean_news_for_summarization.csv\n"
     ]
    }
   ],
   "source": [
    "# CSV로 저장\n",
    "final_df.to_csv('korean_news_for_summarization.csv', index=False, encoding='utf-8-sig')\n",
    "print(\"데이터 저장 완료: korean_news_for_summarization.csv\")"
   ]
  },
  {
   "cell_type": "code",
   "execution_count": 38,
   "id": "46e94462-9ab5-4d72-97c5-cd87c0e2f96b",
   "metadata": {},
   "outputs": [
    {
     "name": "stdout",
     "output_type": "stream",
     "text": [
      "\n",
      "=== 최종 데이터 샘플 ===\n",
      "\n",
      "[1] 조선일보\n",
      "제목: 로드FC 밴텀급 최강의 타격가 '제주짱' 양지용, 7월 27일 日 슈퍼 라이진4 출격\n",
      "내용: [OSEN=홍지수 기자] 로드FC 밴텀급 최강의 타격가 ‘제주짱’ 양지용(29, 제주 팀더킹)이 일본 원정 경기에 나선다.양지용은 오는 7월 27일 일본 도쿄 사이타마 슈퍼 아레나에서 개최되는 슈퍼 라이진4에 출전, 일본의 안도 타츠야(35)와 –61kg 밴텀급으로 대결한다.양지용은 로드FC 밴텀급을 대표하는 타격가다. 왼손잡이의 선수로 킥은 물론, 왼손...\n",
      "자동요약: [OSEN=홍지수 기자] 로드FC 밴텀급 최강의 타격가 ‘제주짱’ 양지용(29, 제주 팀더킹)이 일본 원정 경기에 나선다.양지용은 오는 7월 27일 일본 도쿄 사이타마 슈퍼 아레나에서 개최되는 슈퍼 라이진4에 출전, 일본의 안도 타츠야(35)와 –61kg 밴텀급으로 대결한다.\n",
      "\n",
      "[2] 조선일보\n",
      "제목: 김호령 타격본능 깨운 꽃감독, 득타율 .429 거포유망주 붙잡고 왜 장시간 토크했나\n",
      "내용: [OSEN=광주, 이선호 기자] \"노력해서 더 강해져야 한다\".지난 4일 광주-기아 챔피언스필드에서 이범호 감독이 롯데 자이언츠와 경기를 앞두고 펼친 훈련도중 외야수 김석환과 장시간 이야기를 나누었다. 진지한 표정으로 무언가를 당부하는 모습이었다. 새로운 투수를 상대하는데 앞서 경기를 준비하는데 더욱 심혈을 기울이라는 조언이었다. 김석환은 올해 달라진 모습...\n",
      "자동요약: [OSEN=광주, 이선호 기자] \"노력해서 더 강해져야 한다\".지난 4일 광주-기아 챔피언스필드에서 이범호 감독이 롯데 자이언츠와 경기를 앞두고 펼친 훈련도중 외야수 김석환과 장시간 이야기를 나누었다.\n",
      "\n",
      "[3] 조선일보\n",
      "제목: 손흥민, 내년 1월 토트넘 떠난다? \"프랭크 감독 방침이 손흥민 선택 앞당길 수 있다\" 英 매체\n",
      "내용: [OSEN=우충원 기자] 손흥민(33, 토트넘 홋스퍼)의 미래가 다시 안갯속으로 빠져들고 있다. 미국행, 사우디아라비아 리그 이적설에 이어 최근에는 2026 북중미 월드컵을 앞둔 거취 재조정설까지 불거졌다. 손흥민은 곧 새 사령탑 토마스 프랭크 감독과의 면담을 앞두고 있으며 이 회동이 향후 결정의 분수령이 될 전망이다.풋볼런던은 5일(이하 한국시간) “토트...\n",
      "자동요약: [OSEN=우충원 기자] 손흥민(33, 토트넘 홋스퍼)의 미래가 다시 안갯속으로 빠져들고 있다. 미국행, 사우디아라비아 리그 이적설에 이어 최근에는 2026 북중미 월드컵을 앞둔 거취 재조정설까지 불거졌다.\n"
     ]
    }
   ],
   "source": [
    "# 샘플 데이터 확인\n",
    "print(\"\\n=== 최종 데이터 샘플 ===\")\n",
    "for i in range(min(3, len(final_df))):\n",
    "    print(f\"\\n[{i+1}] {final_df.iloc[i]['source']}\")\n",
    "    print(f\"제목: {final_df.iloc[i]['title']}\")\n",
    "    print(f\"내용: {final_df.iloc[i]['content'][:200]}...\")\n",
    "    print(f\"자동요약: {final_df.iloc[i]['auto_summary']}\")"
   ]
  },
  {
   "cell_type": "code",
   "execution_count": 39,
   "id": "09650507-0ad3-4867-8f19-5574db71bfb3",
   "metadata": {},
   "outputs": [
    {
     "name": "stdout",
     "output_type": "stream",
     "text": [
      "=== 데이터 분석 결과 ===\n",
      "총 기사 수: 25\n",
      "평균 내용 길이: 456자\n",
      "평균 제목 길이: 38자\n",
      "언론사별 분포:\n",
      "source\n",
      "동아일보    10\n",
      "한겨레     10\n",
      "조선일보     5\n",
      "Name: count, dtype: int64\n"
     ]
    }
   ],
   "source": [
    "# 요약 모델링을 위한 기본 분석\n",
    "print(\"=== 데이터 분석 결과 ===\")\n",
    "print(f\"총 기사 수: {len(final_df)}\")\n",
    "print(f\"평균 내용 길이: {final_df['content'].str.len().mean():.0f}자\")\n",
    "print(f\"평균 제목 길이: {final_df['title'].str.len().mean():.0f}자\")\n",
    "print(f\"언론사별 분포:\")\n",
    "print(final_df['source'].value_counts())"
   ]
  },
  {
   "cell_type": "code",
   "execution_count": 40,
   "id": "d0d530d3-b05f-4e10-ac50-015d501870c4",
   "metadata": {},
   "outputs": [],
   "source": [
    "import os\n",
    "from dotenv import load_dotenv\n",
    "from langchain.llms import OpenAI\n",
    "from langchain.chat_models import ChatOpenAI\n",
    "from langchain.prompts import PromptTemplate\n",
    "from langchain.chains import LLMChain\n",
    "from langchain.schema import HumanMessage, SystemMessage\n",
    "import pandas as pd"
   ]
  },
  {
   "cell_type": "code",
   "execution_count": 41,
   "id": "3be04e7d-2be3-4279-bf9c-128b367dea51",
   "metadata": {},
   "outputs": [
    {
     "name": "stdout",
     "output_type": "stream",
     "text": [
      "Loaded API Key prefix: sk-pr\n"
     ]
    }
   ],
   "source": [
    "# .env에서 환경변수 로드\n",
    "load_dotenv()\n",
    "\n",
    "# API 키 가져오기\n",
    "api_key = os.getenv(\"OPENAI_API_KEY\", \"\")\n",
    "\n",
    "# 앞 5자리만 출력\n",
    "print(\"Loaded API Key prefix:\", api_key[:5])"
   ]
  },
  {
   "cell_type": "code",
   "execution_count": 42,
   "id": "b834b550-7f7d-4ff3-9041-531843531970",
   "metadata": {},
   "outputs": [],
   "source": [
    "# LLM 초기화\n",
    "from langchain.chat_models import ChatOpenAI\n",
    "\n",
    "llm = ChatOpenAI(\n",
    "    model=\"gpt-3.5-turbo\",  # 또는 \"gpt-4\"\n",
    "    temperature=0.3,\n",
    "    max_tokens=1000\n",
    ")"
   ]
  },
  {
   "cell_type": "markdown",
   "id": "ad628943-5c95-46f1-8be9-ab3dc49ddd70",
   "metadata": {},
   "source": [
    "#### **관점별 요약 프롬프트 템플릿**"
   ]
  },
  {
   "cell_type": "code",
   "execution_count": 43,
   "id": "a6fd5719-4ea2-484c-b64a-5b98344180bf",
   "metadata": {},
   "outputs": [],
   "source": [
    "# 관점별 프롬프트 템플릿\n",
    "perspective_prompts = {\n",
    "    \"경제전문가\": \"\"\"\n",
    "    당신은 경제 전문가입니다. 다음 뉴스 기사를 경제적 관점에서 분석하고 요약해주세요.\n",
    "    \n",
    "    기사 내용:\n",
    "    {article_text}\n",
    "    \n",
    "    다음 형식으로 답변해주세요:\n",
    "    1. 경제적 핵심 포인트 (3문장 이내)\n",
    "    2. 시장/산업에 미치는 영향\n",
    "    3. 핵심 키워드 (5개)\n",
    "    \n",
    "    요약 길이: {length_constraint}\n",
    "    \"\"\",\n",
    "    \n",
    "    \"일반대중\": \"\"\"\n",
    "    당신은 일반 대중을 위한 뉴스 해설자입니다. 다음 기사를 누구나 쉽게 이해할 수 있도록 요약해주세요.\n",
    "    \n",
    "    기사 내용:\n",
    "    {article_text}\n",
    "    \n",
    "    다음 형식으로 답변해주세요:\n",
    "    1. 한 줄 요약\n",
    "    2. 상세 설명 (쉬운 용어 사용)\n",
    "    3. 우리 생활에 미치는 영향\n",
    "    4. 핵심 키워드 (3개)\n",
    "    \n",
    "    요약 길이: {length_constraint}\n",
    "    \"\"\",\n",
    "    \n",
    "    \"환경운동가\": \"\"\"\n",
    "    당신은 환경 운동가입니다. 다음 뉴스 기사를 환경적 관점에서 분석하고 요약해주세요.\n",
    "    \n",
    "    기사 내용:\n",
    "    {article_text}\n",
    "    \n",
    "    다음 형식으로 답변해주세요:\n",
    "    1. 환경적 의미와 영향\n",
    "    2. 지속가능성 관점에서의 평가\n",
    "    3. 환경 보호를 위한 시사점\n",
    "    4. 핵심 키워드 (5개)\n",
    "    \n",
    "    요약 길이: {length_constraint}\n",
    "    \"\"\",\n",
    "    \n",
    "    \"기술전문가\": \"\"\"\n",
    "    당신은 기술 전문가입니다. 다음 뉴스 기사에서 기술 발전과 관련된 내용을 중심으로 요약해주세요.\n",
    "    \n",
    "    기사 내용:\n",
    "    {article_text}\n",
    "    \n",
    "    다음 형식으로 답변해주세요:\n",
    "    1. 기술적 핵심 내용\n",
    "    2. 기술 트렌드와의 연관성\n",
    "    3. 미래 기술 발전에 미치는 영향\n",
    "    4. 핵심 기술 키워드 (5개)\n",
    "    \n",
    "    요약 길이: {length_constraint}\n",
    "    \"\"\"\n",
    "}"
   ]
  },
  {
   "cell_type": "markdown",
   "id": "d8861195-4a10-496b-8ead-15725f2839f7",
   "metadata": {},
   "source": [
    "#### **뉴스 요약 클래스 구현**"
   ]
  },
  {
   "cell_type": "code",
   "execution_count": 44,
   "id": "14a7499b-72c7-4e63-b228-00b0a0d9c2bd",
   "metadata": {},
   "outputs": [],
   "source": [
    "class NewsLensAI:\n",
    "    def __init__(self, llm):\n",
    "        self.llm = llm\n",
    "        self.perspective_prompts = perspective_prompts\n",
    "    \n",
    "    def summarize_with_perspective(self, article_text, perspective=\"일반대중\", \n",
    "                                 length_constraint=\"3문장 이내\"):\n",
    "        \"\"\"\n",
    "        관점과 길이 제약을 적용한 뉴스 요약\n",
    "        \"\"\"\n",
    "        if perspective not in self.perspective_prompts:\n",
    "            raise ValueError(f\"지원하지 않는 관점입니다: {perspective}\")\n",
    "        \n",
    "        # 프롬프트 생성\n",
    "        prompt_template = self.perspective_prompts[perspective]\n",
    "        prompt = prompt_template.format(\n",
    "            article_text=article_text,\n",
    "            length_constraint=length_constraint\n",
    "        )\n",
    "        \n",
    "        # LLM 호출\n",
    "        messages = [\n",
    "            SystemMessage(content=\"당신은 전문적이고 정확한 뉴스 요약 전문가입니다.\"),\n",
    "            HumanMessage(content=prompt)\n",
    "        ]\n",
    "        \n",
    "        response = self.llm(messages)\n",
    "        return response.content\n",
    "    \n",
    "    def extract_keywords_only(self, article_text, num_keywords=5):\n",
    "        \"\"\"\n",
    "        키워드만 추출하는 함수\n",
    "        \"\"\"\n",
    "        prompt = f\"\"\"\n",
    "        다음 뉴스 기사에서 가장 중요한 키워드 {num_keywords}개를 추출해주세요.\n",
    "        키워드는 쉼표로 구분하여 나열해주세요.\n",
    "        \n",
    "        기사 내용:\n",
    "        {article_text}\n",
    "        \n",
    "        키워드:\n",
    "        \"\"\"\n",
    "        \n",
    "        messages = [HumanMessage(content=prompt)]\n",
    "        response = self.llm(messages)\n",
    "        return response.content.strip()\n",
    "    \n",
    "    def custom_summary(self, article_text, custom_instruction):\n",
    "        \"\"\"\n",
    "        사용자 정의 요청에 따른 요약\n",
    "        \"\"\"\n",
    "        prompt = f\"\"\"\n",
    "        다음 지시사항에 따라 뉴스 기사를 요약해주세요:\n",
    "        \n",
    "        지시사항: {custom_instruction}\n",
    "        \n",
    "        기사 내용:\n",
    "        {article_text}\n",
    "        \"\"\"\n",
    "        \n",
    "        messages = [HumanMessage(content=prompt)]\n",
    "        response = self.llm(messages)\n",
    "        return response.content\n",
    "\n",
    "# 뉴스 요약 시스템 초기화\n",
    "news_ai = NewsLensAI(llm)"
   ]
  },
  {
   "cell_type": "code",
   "execution_count": null,
   "id": "81bb9c19-d784-472a-bdfd-46ae10295e18",
   "metadata": {},
   "outputs": [],
   "source": []
  },
  {
   "cell_type": "markdown",
   "id": "0a7015ed-d6e6-462f-bcb5-109c4ab06b67",
   "metadata": {},
   "source": [
    "실제 뉴스 데이터로 테스트"
   ]
  },
  {
   "cell_type": "code",
   "execution_count": 45,
   "id": "162a0d84-3d21-4447-aea1-57502cae3600",
   "metadata": {},
   "outputs": [
    {
     "name": "stdout",
     "output_type": "stream",
     "text": [
      "테스트 기사 제목: 로드FC 밴텀급 최강의 타격가 '제주짱' 양지용, 7월 27일 日 슈퍼 라이진4 출격\n",
      "원본 길이: 199자\n",
      "==================================================\n",
      "\n",
      "📋 **경제전문가 관점에서의 요약:**\n",
      "1. 양지용이 일본 원정 경기에 출전하여 로드FC 밴텀급 최강의 타격가로 활약할 예정이다.\n",
      "2. 양지용의 활약은 로드FC와 국제 무에타이 시장에 홍보 효과를 줄 것으로 예상된다.\n",
      "3. 양지용, 로드FC, 밴텀급, 일본 원정 경기, 무에타이.\n",
      "------------------------------\n",
      "\n",
      "📋 **일반대중 관점에서의 요약:**\n",
      "1. '제주짱' 양지용이 일본 원정 경기에 출전한다.\n",
      "   \n",
      "2. '제주짱' 양지용이 7월 27일 일본에서 슈퍼 라이진4 대회에 참가하여 일본의 안도 타츠야와 경기를 벌인다. 양지용은 로드FC 밴텀급의 강력한 타격가로, 왼손잡이 선수로서 킥뿐만 아니라 왼손으로도 상대를 공격한다.\n",
      "\n",
      "3. 양지용의 일본 원정 경기는 국내 무대를 넘어 국제 무대에서 우리나라 선수의 실력을 알리는 계기가 될 수 있으며, 관심을 끌어 국내 격투기 스포츠의 발전에 기여할 수 있다.\n",
      "\n",
      "4. 제주짱, 로드FC, 밴텀급\n",
      "------------------------------\n",
      "\n",
      "📋 **환경운동가 관점에서의 요약:**\n",
      "1. 환경적 의미와 영향: 양지용의 일본 원정 경기는 환경과는 직접적인 연관이 없으나, 스포츠 이벤트로 인한 교통량과 에너지 소비 등은 환경에 영향을 미칠 수 있다.\n",
      "2. 지속가능성 관점에서의 평가: 스포츠 활동은 운동 선수들의 건강과 삶의 질을 향상시키지만, 이러한 이벤트가 지속가능한 방식으로 운영되어야 한다.\n",
      "3. 환경 보호를 위한 시사점: 스포츠 이벤트 주최자들은 환경 보호를 고려한 지속가능한 행사 운영 방안을 모색해야 하며, 참가자들도 환경을 생각하며 활동하는 습관을 길러야 한다.\n",
      "\n",
      "4. 핵심 키워드: 환경, 스포츠 이벤트, 지속가능성, 환경 보호, 참가자들\n",
      "------------------------------\n",
      "\n",
      "📋 **기술전문가 관점에서의 요약:**\n",
      "1. 제주짱 양지용이 일본 원정 경기에 출전하여 슈퍼 라이진4에서 안도 타츠야와 대결한다.\n",
      "2. 이러한 스포츠 이벤트는 기술적으로 확장된 영상 중계와 데이터 분석 기술을 활용하여 전 세계 팬들에게 전달된다.\n",
      "3. 더 나아가, 가상 현실(VR) 기술과 실시간 센서 데이터 분석 기술의 발전이 스포츠 경기의 시청 경험을 혁신할 것으로 전망된다.\n",
      "4. 가상 현실, 데이터 분석, 센서 기술, 스포츠 경기, 영상 중계.\n",
      "------------------------------\n",
      "\n",
      "📏 **길이별 요약 (일반대중 관점):**\n",
      "\n",
      "1문장으로: 1. '로드FC의 양지용이 일본 원정 경기에 나서게 된다.'\n",
      "\n",
      "2. 로드FC의 밴텀급 타격가 양지용이 일본 원정 경기인 슈퍼 라이진4에 출전하여 일본의 안도 타츠야와 대결할 예정이다.\n",
      "\n",
      "3. 양지용의 일본 원정 경기는 국제적인 스포츠 교류를 촉진하고, 국내 무에타이 선수들의 실력 향상에 도움이 될 수 있다.\n",
      "\n",
      "4. 로드FC, 양지용, 일본 원정.\n",
      "\n",
      "50단어 이내로: 1. '로드FC의 양지용이 일본 원정 경기에 출전한다.'\n",
      "2. 로드FC의 밴텀급 타격가 양지용이 일본 원정 경기에 참가한다. 이번 경기는 7월 27일 일본 도쿄에서 열리며, 상대는 일본의 안도 타츠야와의 대결이다. 양지용은 왼손잡이 선수로 로드FC 밴텀급을 대표하는 타격가이다.\n",
      "3. 양지용의 일본 원정 경기는 국내 외교 활동과 스포츠 교류를 촉진하며, 관심을 끌 수 있다.\n",
      "4. 로드FC, 양지용, 일본 원정.\n",
      "\n",
      "5문장으로: 1. '로드FC의 양지용이 일본 원정 경기에 출전한다.'\n",
      "2. 로드FC의 밴텀급 타격가인 양지용이 일본에서 열리는 슈퍼 라이진4 대회에 참가하여 일본의 안도 타츠야와 대결할 예정이다. 양지용은 왼손잡이 선수로 킥뿐만 아니라 다양한 기술을 사용한다.\n",
      "3. 양지용의 일본 원정 경기는 국내 무에타이 팬들에게는 흥미로운 이벤트가 될 것이며, 그의 경기 결과는 관심을 끌 것이다.\n",
      "4. 로드FC, 양지용, 일본 원정.\n"
     ]
    }
   ],
   "source": [
    "# 이전에 수집한 뉴스 데이터 로드\n",
    "df = pd.read_csv('korean_news_for_summarization.csv', encoding='utf-8-sig')\n",
    "\n",
    "# 테스트용 기사 선택\n",
    "test_article = df.iloc[0]['content']  # 첫 번째 기사\n",
    "test_title = df.iloc[0]['title']\n",
    "\n",
    "print(f\"테스트 기사 제목: {test_title}\")\n",
    "print(f\"원본 길이: {len(test_article)}자\")\n",
    "print(\"=\"*50)\n",
    "\n",
    "\n",
    "# 1. 다양한 관점에서 요약\n",
    "perspectives = [\"경제전문가\", \"일반대중\", \"환경운동가\", \"기술전문가\"]\n",
    "\n",
    "for perspective in perspectives:\n",
    "    try:\n",
    "        print(f\"\\n📋 **{perspective} 관점에서의 요약:**\")\n",
    "        summary = news_ai.summarize_with_perspective(\n",
    "            test_article, \n",
    "            perspective=perspective,\n",
    "            length_constraint=\"3문장 이내\"\n",
    "        )\n",
    "        print(summary)\n",
    "        print(\"-\" * 30)\n",
    "    except Exception as e:\n",
    "        print(f\"Error with {perspective}: {e}\")\n",
    "\n",
    "# 2. 길이별 요약 테스트\n",
    "length_constraints = [\"1문장으로\", \"50단어 이내로\", \"5문장으로\"]\n",
    "\n",
    "print(f\"\\n📏 **길이별 요약 (일반대중 관점):**\")\n",
    "for length in length_constraints:\n",
    "    try:\n",
    "        summary = news_ai.summarize_with_perspective(\n",
    "            test_article,\n",
    "            perspective=\"일반대중\",\n",
    "            length_constraint=length\n",
    "        )\n",
    "        print(f\"\\n{length}: {summary}\")\n",
    "    except Exception as e:\n",
    "        print(f\"Error with {length}: {e}\")"
   ]
  },
  {
   "cell_type": "code",
   "execution_count": null,
   "id": "169b3d96-6c88-416e-a18a-129c718cfbb5",
   "metadata": {},
   "outputs": [],
   "source": []
  },
  {
   "cell_type": "markdown",
   "id": "8e92c734-eb5a-43f4-869a-617e83d27cd7",
   "metadata": {},
   "source": [
    "### 대화형 인터페이스 구현"
   ]
  },
  {
   "cell_type": "code",
   "execution_count": 46,
   "id": "e57c8461-dab0-4e56-9a50-66040d332a12",
   "metadata": {},
   "outputs": [],
   "source": [
    "def interactive_news_summarizer():\n",
    "    \"\"\"\n",
    "    대화형 뉴스 요약 시스템\n",
    "    \"\"\"\n",
    "    print(\"🤖 뉴스 요약 AI에 오신 것을 환영합니다!\")\n",
    "    print(\"사용 가능한 관점:\", list(perspective_prompts.keys()))\n",
    "    \n",
    "    while True:\n",
    "        print(\"\\n\" + \"=\"*50)\n",
    "        \n",
    "        # 기사 선택\n",
    "        print(f\"📰 사용 가능한 기사 목록:\")\n",
    "        for i, title in enumerate(df['title'].head(5)):\n",
    "            print(f\"{i+1}. {title[:50]}...\")\n",
    "        \n",
    "        try:\n",
    "            article_idx = int(input(\"\\n기사 번호를 선택하세요 (1-5): \")) - 1\n",
    "            selected_article = df.iloc[article_idx]['content']\n",
    "            selected_title = df.iloc[article_idx]['title']\n",
    "            \n",
    "            print(f\"\\n선택된 기사: {selected_title}\")\n",
    "            \n",
    "            # 관점 선택\n",
    "            perspective = input(f\"\\n관점을 선택하세요 {list(perspective_prompts.keys())}: \")\n",
    "            if perspective not in perspective_prompts:\n",
    "                perspective = \"일반대중\"\n",
    "            \n",
    "            # 길이 제약\n",
    "            length = input(\"길이 제약을 입력하세요 (예: 3문장 이내, 100단어 이내): \")\n",
    "            if not length:\n",
    "                length = \"3문장 이내\"\n",
    "            \n",
    "            # 요약 실행\n",
    "            print(\"\\n🔄 요약 생성 중...\")\n",
    "            summary = news_ai.summarize_with_perspective(\n",
    "                selected_article, \n",
    "                perspective=perspective,\n",
    "                length_constraint=length\n",
    "            )\n",
    "            \n",
    "            print(f\"\\n📝 **{perspective} 관점 요약 결과:**\")\n",
    "            print(summary)\n",
    "            \n",
    "            # 계속할지 묻기\n",
    "            continue_choice = input(\"\\n다른 기사를 요약하시겠습니까? (y/n): \")\n",
    "            if continue_choice.lower() != 'y':\n",
    "                break\n",
    "                \n",
    "        except (ValueError, IndexError) as e:\n",
    "            print(\"올바른 번호를 입력해주세요.\")\n",
    "        except KeyboardInterrupt:\n",
    "            print(\"\\n프로그램을 종료합니다.\")\n",
    "            break\n",
    "\n",
    "# 대화형 시스템 실행\n",
    "# interactive_news_summarizer()"
   ]
  },
  {
   "cell_type": "code",
   "execution_count": null,
   "id": "7d8f1dc3-4886-479d-831c-e29af313e25c",
   "metadata": {},
   "outputs": [],
   "source": []
  },
  {
   "cell_type": "markdown",
   "id": "04c50a78-4047-41b9-9233-d94a495502f7",
   "metadata": {},
   "source": [
    "### 배치 처리"
   ]
  },
  {
   "cell_type": "code",
   "execution_count": 47,
   "id": "961d3417-ba74-4a17-abd5-c023bc88551b",
   "metadata": {},
   "outputs": [
    {
     "name": "stdout",
     "output_type": "stream",
     "text": [
      "처리 완료: 1/3\n",
      "처리 완료: 2/3\n",
      "처리 완료: 3/3\n",
      "배치 요약 결과 저장 완료!\n"
     ]
    }
   ],
   "source": [
    "def batch_summarize_news(df, perspectives=[\"일반대중\"], length_constraint=\"3문장 이내\"):\n",
    "    \"\"\"\n",
    "    여러 뉴스를 한번에 요약하는 배치 처리 함수\n",
    "    \"\"\"\n",
    "    results = []\n",
    "    \n",
    "    for idx, row in df.iterrows():\n",
    "        article_summary = {\n",
    "            'title': row['title'],\n",
    "            'source': row['source'],\n",
    "            'original_length': len(row['content'])\n",
    "        }\n",
    "        \n",
    "        for perspective in perspectives:\n",
    "            try:\n",
    "                summary = news_ai.summarize_with_perspective(\n",
    "                    row['content'],\n",
    "                    perspective=perspective,\n",
    "                    length_constraint=length_constraint\n",
    "                )\n",
    "                article_summary[f'{perspective}_요약'] = summary\n",
    "                \n",
    "            except Exception as e:\n",
    "                article_summary[f'{perspective}_요약'] = f\"Error: {e}\"\n",
    "        \n",
    "        results.append(article_summary)\n",
    "        print(f\"처리 완료: {idx+1}/{len(df)}\")\n",
    "    \n",
    "    return pd.DataFrame(results)\n",
    "\n",
    "# 배치 요약 실행 (처음 3개 기사만)\n",
    "batch_results = batch_summarize_news(\n",
    "    df.head(3), \n",
    "    perspectives=[\"일반대중\", \"경제전문가\"],\n",
    "    length_constraint=\"2문장 이내\"\n",
    ")\n",
    "\n",
    "# 결과 저장\n",
    "batch_results.to_csv('news_summaries_batch.csv', index=False, encoding='utf-8-sig')\n",
    "print(\"배치 요약 결과 저장 완료!\")"
   ]
  },
  {
   "cell_type": "code",
   "execution_count": null,
   "id": "949c8ca3-a745-4584-bf35-b617bd4f58a5",
   "metadata": {},
   "outputs": [],
   "source": []
  },
  {
   "cell_type": "markdown",
   "id": "7f7c108e-8d32-443b-b53a-52f18e8a0cfa",
   "metadata": {},
   "source": [
    "==============================================================================================="
   ]
  },
  {
   "cell_type": "markdown",
   "id": "9f464903-1690-4054-9a20-26a2971967ae",
   "metadata": {},
   "source": [
    "2025-07-03"
   ]
  },
  {
   "cell_type": "code",
   "execution_count": null,
   "id": "3caf8b8a-0f0d-480e-9d2d-19f6bdd4f7cc",
   "metadata": {},
   "outputs": [],
   "source": []
  },
  {
   "cell_type": "code",
   "execution_count": null,
   "id": "26c72f35-0e81-497f-b182-a041594f818d",
   "metadata": {},
   "outputs": [],
   "source": []
  },
  {
   "cell_type": "code",
   "execution_count": null,
   "id": "446a02ac-90ad-4b9e-8ac9-d558611deb93",
   "metadata": {},
   "outputs": [],
   "source": []
  },
  {
   "cell_type": "code",
   "execution_count": null,
   "id": "2de853d4-c91d-4adf-8f14-c47aadeb684c",
   "metadata": {},
   "outputs": [],
   "source": []
  },
  {
   "cell_type": "code",
   "execution_count": null,
   "id": "f74747fa-4b62-48f6-b9f8-b97008b31474",
   "metadata": {},
   "outputs": [],
   "source": []
  },
  {
   "cell_type": "code",
   "execution_count": null,
   "id": "a30a785c-14fa-4171-9720-2a17d6d2f6e7",
   "metadata": {},
   "outputs": [],
   "source": []
  },
  {
   "cell_type": "code",
   "execution_count": null,
   "id": "55e4f44d-735d-41bf-9cb5-e5f0fa05bc51",
   "metadata": {},
   "outputs": [],
   "source": []
  },
  {
   "cell_type": "code",
   "execution_count": null,
   "id": "255a29f8-d2c4-4f0b-958a-6c0e4b928b7d",
   "metadata": {},
   "outputs": [],
   "source": []
  },
  {
   "cell_type": "code",
   "execution_count": null,
   "id": "e04bb9b3-7ebe-471c-8c3e-48425bb0267c",
   "metadata": {},
   "outputs": [],
   "source": []
  },
  {
   "cell_type": "code",
   "execution_count": null,
   "id": "2a5d59c7-ce5c-4e51-9b11-028b03f7809c",
   "metadata": {},
   "outputs": [],
   "source": []
  },
  {
   "cell_type": "code",
   "execution_count": null,
   "id": "f280057f-fabe-4aee-854f-bad002edb6e1",
   "metadata": {},
   "outputs": [],
   "source": []
  },
  {
   "cell_type": "code",
   "execution_count": null,
   "id": "21b60ca1-3bb3-4e4f-86ad-d9f1ebfd960a",
   "metadata": {},
   "outputs": [],
   "source": []
  },
  {
   "cell_type": "code",
   "execution_count": null,
   "id": "5d3dd21a-ed5e-4543-aa39-748014da7952",
   "metadata": {},
   "outputs": [],
   "source": []
  },
  {
   "cell_type": "code",
   "execution_count": null,
   "id": "3a58248c-c48b-42e3-bcdd-b2d8b7f284fd",
   "metadata": {},
   "outputs": [],
   "source": []
  },
  {
   "cell_type": "code",
   "execution_count": null,
   "id": "f9884612-3949-41a9-854a-eff3c3e9bd16",
   "metadata": {},
   "outputs": [],
   "source": []
  }
 ],
 "metadata": {
  "kernelspec": {
   "display_name": "Python 3 (ipykernel)",
   "language": "python",
   "name": "python3"
  },
  "language_info": {
   "codemirror_mode": {
    "name": "ipython",
    "version": 3
   },
   "file_extension": ".py",
   "mimetype": "text/x-python",
   "name": "python",
   "nbconvert_exporter": "python",
   "pygments_lexer": "ipython3",
   "version": "3.11.8"
  }
 },
 "nbformat": 4,
 "nbformat_minor": 5
}
